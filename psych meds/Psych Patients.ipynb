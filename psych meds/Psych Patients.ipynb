{
 "cells": [
  {
   "cell_type": "code",
   "execution_count": 1,
   "metadata": {
    "collapsed": true
   },
   "outputs": [],
   "source": [
    "import pandas as pd"
   ]
  },
  {
   "cell_type": "code",
   "execution_count": 15,
   "metadata": {
    "collapsed": false
   },
   "outputs": [
    {
     "data": {
      "text/html": [
       "<div>\n",
       "<table border=\"1\" class=\"dataframe\">\n",
       "  <thead>\n",
       "    <tr style=\"text-align: right;\">\n",
       "      <th></th>\n",
       "      <th>MedRecNo</th>\n",
       "      <th>Date</th>\n",
       "      <th>Time</th>\n",
       "      <th>PtName</th>\n",
       "      <th>PtDOB</th>\n",
       "      <th>PtSex</th>\n",
       "      <th>PtRace</th>\n",
       "      <th>PtEthnicity</th>\n",
       "      <th>PtLang</th>\n",
       "      <th>PtAge</th>\n",
       "      <th>PtAddr</th>\n",
       "      <th>PrListMed</th>\n",
       "    </tr>\n",
       "  </thead>\n",
       "  <tbody>\n",
       "    <tr>\n",
       "      <th>0</th>\n",
       "      <td>35317700</td>\n",
       "      <td>2014-02-08</td>\n",
       "      <td>16:52</td>\n",
       "      <td>FISHER, ERVIN LEON</td>\n",
       "      <td>11/28/1969</td>\n",
       "      <td>M</td>\n",
       "      <td>B</td>\n",
       "      <td>NH</td>\n",
       "      <td>ENGLISH</td>\n",
       "      <td>47.34</td>\n",
       "      <td>721 JESSICA TAYLOR DRIVE,  MADISON TN 37115-5579</td>\n",
       "      <td>metformin 1000 mg bid (dispensed for 30 days o...</td>\n",
       "    </tr>\n",
       "    <tr>\n",
       "      <th>1</th>\n",
       "      <td>35317700</td>\n",
       "      <td>2014-02-08</td>\n",
       "      <td>16:52</td>\n",
       "      <td>FISHER, ERVIN LEON</td>\n",
       "      <td>11/28/1969</td>\n",
       "      <td>M</td>\n",
       "      <td>B</td>\n",
       "      <td>NH</td>\n",
       "      <td>ENGLISH</td>\n",
       "      <td>47.34</td>\n",
       "      <td>721 JESSICA TAYLOR DRIVE,  MADISON TN 37115-5579</td>\n",
       "      <td>glyburide 5 mg bid (dispensed for 30 days on 0...</td>\n",
       "    </tr>\n",
       "    <tr>\n",
       "      <th>2</th>\n",
       "      <td>35317700</td>\n",
       "      <td>2014-02-08</td>\n",
       "      <td>16:52</td>\n",
       "      <td>FISHER, ERVIN LEON</td>\n",
       "      <td>11/28/1969</td>\n",
       "      <td>M</td>\n",
       "      <td>B</td>\n",
       "      <td>NH</td>\n",
       "      <td>ENGLISH</td>\n",
       "      <td>47.34</td>\n",
       "      <td>721 JESSICA TAYLOR DRIVE,  MADISON TN 37115-5579</td>\n",
       "      <td>lisinopril 40 mg qd (dispensed for 30 days on ...</td>\n",
       "    </tr>\n",
       "    <tr>\n",
       "      <th>3</th>\n",
       "      <td>35317700</td>\n",
       "      <td>2014-02-08</td>\n",
       "      <td>16:52</td>\n",
       "      <td>FISHER, ERVIN LEON</td>\n",
       "      <td>11/28/1969</td>\n",
       "      <td>M</td>\n",
       "      <td>B</td>\n",
       "      <td>NH</td>\n",
       "      <td>ENGLISH</td>\n",
       "      <td>47.34</td>\n",
       "      <td>721 JESSICA TAYLOR DRIVE,  MADISON TN 37115-5579</td>\n",
       "      <td>aspirin 325 mg 1/2 tablet qd (dispensed for 30...</td>\n",
       "    </tr>\n",
       "    <tr>\n",
       "      <th>4</th>\n",
       "      <td>35317700</td>\n",
       "      <td>2014-02-08</td>\n",
       "      <td>16:52</td>\n",
       "      <td>FISHER, ERVIN LEON</td>\n",
       "      <td>11/28/1969</td>\n",
       "      <td>M</td>\n",
       "      <td>B</td>\n",
       "      <td>NH</td>\n",
       "      <td>ENGLISH</td>\n",
       "      <td>47.34</td>\n",
       "      <td>721 JESSICA TAYLOR DRIVE,  MADISON TN 37115-5579</td>\n",
       "      <td>omeprazole 40 mg qd (dispensed for 30 days on ...</td>\n",
       "    </tr>\n",
       "  </tbody>\n",
       "</table>\n",
       "</div>"
      ],
      "text/plain": [
       "   MedRecNo        Date   Time              PtName       PtDOB PtSex PtRace  \\\n",
       "0  35317700  2014-02-08  16:52  FISHER, ERVIN LEON  11/28/1969     M      B   \n",
       "1  35317700  2014-02-08  16:52  FISHER, ERVIN LEON  11/28/1969     M      B   \n",
       "2  35317700  2014-02-08  16:52  FISHER, ERVIN LEON  11/28/1969     M      B   \n",
       "3  35317700  2014-02-08  16:52  FISHER, ERVIN LEON  11/28/1969     M      B   \n",
       "4  35317700  2014-02-08  16:52  FISHER, ERVIN LEON  11/28/1969     M      B   \n",
       "\n",
       "  PtEthnicity   PtLang  PtAge  \\\n",
       "0          NH  ENGLISH  47.34   \n",
       "1          NH  ENGLISH  47.34   \n",
       "2          NH  ENGLISH  47.34   \n",
       "3          NH  ENGLISH  47.34   \n",
       "4          NH  ENGLISH  47.34   \n",
       "\n",
       "                                              PtAddr  \\\n",
       "0  721 JESSICA TAYLOR DRIVE,  MADISON TN 37115-5579    \n",
       "1  721 JESSICA TAYLOR DRIVE,  MADISON TN 37115-5579    \n",
       "2  721 JESSICA TAYLOR DRIVE,  MADISON TN 37115-5579    \n",
       "3  721 JESSICA TAYLOR DRIVE,  MADISON TN 37115-5579    \n",
       "4  721 JESSICA TAYLOR DRIVE,  MADISON TN 37115-5579    \n",
       "\n",
       "                                           PrListMed  \n",
       "0  metformin 1000 mg bid (dispensed for 30 days o...  \n",
       "1  glyburide 5 mg bid (dispensed for 30 days on 0...  \n",
       "2  lisinopril 40 mg qd (dispensed for 30 days on ...  \n",
       "3  aspirin 325 mg 1/2 tablet qd (dispensed for 30...  \n",
       "4  omeprazole 40 mg qd (dispensed for 30 days on ...  "
      ]
     },
     "execution_count": 15,
     "metadata": {},
     "output_type": "execute_result"
    }
   ],
   "source": [
    "pts = pd.read_csv('dump.xls')\n",
    "pts.head()"
   ]
  },
  {
   "cell_type": "code",
   "execution_count": 6,
   "metadata": {
    "collapsed": false
   },
   "outputs": [],
   "source": [
    "medlist = pd.read_excel('STCPsychMedSearch.xlsx')"
   ]
  },
  {
   "cell_type": "code",
   "execution_count": 14,
   "metadata": {
    "collapsed": false
   },
   "outputs": [],
   "source": [
    "re = r'|'.join(medlist['Generic'].tolist() + medlist['Trade'].dropna().tolist())"
   ]
  },
  {
   "cell_type": "code",
   "execution_count": 19,
   "metadata": {
    "collapsed": false
   },
   "outputs": [],
   "source": [
    "mask = pts['PrListMed'].astype(str).str.contains(re, case=False) == True"
   ]
  },
  {
   "cell_type": "code",
   "execution_count": 26,
   "metadata": {
    "collapsed": false
   },
   "outputs": [],
   "source": [
    "psych_pt = pts[mask]\n",
    "psych_pt.reset_index(drop=True,inplace=True)"
   ]
  },
  {
   "cell_type": "code",
   "execution_count": 28,
   "metadata": {
    "collapsed": false
   },
   "outputs": [],
   "source": [
    "psych_pt.to_excel('stc_psych_pt.xls')"
   ]
  },
  {
   "cell_type": "code",
   "execution_count": null,
   "metadata": {
    "collapsed": true
   },
   "outputs": [],
   "source": []
  }
 ],
 "metadata": {
  "kernelspec": {
   "display_name": "Python [Root]",
   "language": "python",
   "name": "Python [Root]"
  },
  "language_info": {
   "codemirror_mode": {
    "name": "ipython",
    "version": 2
   },
   "file_extension": ".py",
   "mimetype": "text/x-python",
   "name": "python",
   "nbconvert_exporter": "python",
   "pygments_lexer": "ipython2",
   "version": "2.7.12"
  }
 },
 "nbformat": 4,
 "nbformat_minor": 0
}
